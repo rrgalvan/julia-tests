{
 "cells": [
  {
   "cell_type": "markdown",
   "metadata": {},
   "source": [
    "# Ejemplos rápidos de introducción a Julia"
   ]
  },
  {
   "cell_type": "markdown",
   "metadata": {},
   "source": [
    "## Funciones\n",
    "\n",
    "https://docs.julialang.org/en/v1/manual/functions/\n",
    "\n"
   ]
  },
  {
   "cell_type": "code",
   "execution_count": 5,
   "metadata": {},
   "outputs": [
    {
     "data": {
      "text/plain": [
       "9"
      ]
     },
     "execution_count": 5,
     "metadata": {},
     "output_type": "execute_result"
    }
   ],
   "source": [
    "# Sintaxis básica: function...end\n",
    "function f(x,y)\n",
    "    (x+y)^2\n",
    "end\n",
    "f(1,2)"
   ]
  },
  {
   "cell_type": "code",
   "execution_count": 6,
   "metadata": {},
   "outputs": [
    {
     "data": {
      "text/plain": [
       "8"
      ]
     },
     "execution_count": 6,
     "metadata": {},
     "output_type": "execute_result"
    }
   ],
   "source": [
    "# Sintaxis abreviada \"assignment form\" f(x)=\n",
    "f(x,y) = (x+y)^3\n",
    "f(1,1)"
   ]
  },
  {
   "cell_type": "code",
   "execution_count": 9,
   "metadata": {},
   "outputs": [
    {
     "data": {
      "text/plain": [
       "(6, 0)"
      ]
     },
     "execution_count": 9,
     "metadata": {},
     "output_type": "execute_result"
    }
   ],
   "source": [
    "# Multiple Return Values\n",
    "function mi_f(x,y)\n",
    "    return x+y, x-y\n",
    "end\n",
    "mi_f(3,3)"
   ]
  },
  {
   "cell_type": "code",
   "execution_count": 16,
   "metadata": {},
   "outputs": [
    {
     "data": {
      "text/plain": [
       "4"
      ]
     },
     "execution_count": 16,
     "metadata": {},
     "output_type": "execute_result"
    }
   ],
   "source": [
    "# Keyword Arguments\n",
    "function f(x, y=3)\n",
    "    x+y\n",
    "end\n",
    "f(1)"
   ]
  },
  {
   "cell_type": "code",
   "execution_count": 33,
   "metadata": {},
   "outputs": [
    {
     "data": {
      "text/plain": [
       "3-element Array{Float64,1}:\n",
       " 0.2\n",
       " 0.3\n",
       " 0.4"
      ]
     },
     "execution_count": 33,
     "metadata": {},
     "output_type": "execute_result"
    }
   ],
   "source": [
    "# Function composition and piping\n",
    "(sin ∘ asin)(0.5333)\n",
    "\n",
    "0.5333 |> asin |> sin |> x -> x^2 |> sqrt\n",
    "\n",
    "[ x |> asin |> sin |> x -> x^2 |> sqrt  for  x in [.2, 0.3, 0.4] ]"
   ]
  },
  {
   "cell_type": "code",
   "execution_count": 48,
   "metadata": {},
   "outputs": [
    {
     "name": "stdout",
     "output_type": "stream",
     "text": [
      "[0.6931471805599453 1.0986122886681098 1.3862943611198906]\n",
      "[5 10 17]\n"
     ]
    },
    {
     "data": {
      "text/plain": [
       "1×3 Array{Int64,2}:\n",
       " 4  9  16"
      ]
     },
     "execution_count": 48,
     "metadata": {},
     "output_type": "execute_result"
    }
   ],
   "source": [
    "# Dot Syntax for Vectorizing Functions\n",
    "#   Any Julia function f can be applied elementwise to any array (or other collection)\n",
    "#   with the syntax f.(A)\n",
    "\n",
    "v = [2 3 4]\n",
    "println(log.(v))\n",
    "\n",
    "f(x) = x^2+1\n",
    "println(f.(v))\n",
    "\n",
    "u = v\n",
    "u + v\n",
    "u.^2"
   ]
  },
  {
   "cell_type": "markdown",
   "metadata": {},
   "source": [
    "## Control de flujo"
   ]
  },
  {
   "cell_type": "code",
   "execution_count": 56,
   "metadata": {},
   "outputs": [
    {
     "data": {
      "text/plain": [
       "3"
      ]
     },
     "execution_count": 56,
     "metadata": {},
     "output_type": "execute_result"
    }
   ],
   "source": [
    "# Bloques de código: begin...end   /   (...)\n",
    "begin\n",
    "    a=2\n",
    "    b=a+1\n",
    "end"
   ]
  },
  {
   "cell_type": "code",
   "execution_count": 61,
   "metadata": {},
   "outputs": [
    {
     "name": "stdout",
     "output_type": "stream",
     "text": [
      " 3>2 \n",
      "----------\n",
      "sí"
     ]
    }
   ],
   "source": [
    "# Condicionales if...elseif...else...end   /   a ? b: c    /   a && b   /   a || c\n",
    "if b>a\n",
    "    println(\" $b>$a \")\n",
    "else\n",
    "    println(\"no\")\n",
    "end\n",
    "println(\"----------\")\n",
    "b>a ? print(\"sí\") : print(\"no\")"
   ]
  },
  {
   "cell_type": "code",
   "execution_count": 70,
   "metadata": {},
   "outputs": [
    {
     "name": "stdout",
     "output_type": "stream",
     "text": [
      "i=-3, i=-1, i=1, i=3, i=5, i=7, "
     ]
    }
   ],
   "source": [
    "# Bucles  while condición ... end    /   for i = 1:n ... end\n",
    "for i=-3:2:8\n",
    "    print(\"i=$i, \")\n",
    "end"
   ]
  },
  {
   "cell_type": "code",
   "execution_count": 78,
   "metadata": {},
   "outputs": [
    {
     "ename": "String",
     "evalue": "\"Divisón por cero\"",
     "output_type": "error",
     "traceback": [
      "\"Divisón por cero\"",
      "",
      "Stacktrace:",
      " [1] divide_por(::Int64) at ./In[78]:4",
      " [2] top-level scope at In[78]:8"
     ]
    }
   ],
   "source": [
    "# Excepciones y errores:  throw, try/cach, finaly\n",
    "function divide_por(x)\n",
    "    if x==0\n",
    "        throw( \"Divisón por cero\" )\n",
    "    end\n",
    "    1/x\n",
    "end\n",
    "divide_por(0)"
   ]
  },
  {
   "cell_type": "code",
   "execution_count": 28,
   "metadata": {},
   "outputs": [],
   "source": [
    "# Tareas o \"Corrutinas\" (Tasks aka Corroutines)\n",
    "#   Paralelización!"
   ]
  },
  {
   "cell_type": "markdown",
   "metadata": {},
   "source": [
    "## Programación Orientada a Objetos\n",
    "(...)"
   ]
  },
  {
   "cell_type": "markdown",
   "metadata": {},
   "source": [
    "## Arrays \n",
    "\n",
    "https://docs.julialang.org/en/v1/manual/arrays/\n",
    "\n",
    "- An array is a *collection of objects stored in a multi-dimensional grid*. In the most general case, an array may contain **objects of type Any**. For most **computational purposes**, arrays **should contain objects of a more specific type**, such as **Float64** or Int32.\n",
    "\n",
    "- In general, unlike many other technical computing languages, **Julia does not expect** programs to be written in a **vectorized style** for performance. Julia's compiler uses type inference and generates optimized code for scalar array indexing, allowing programs to be written in a style that is convenient and readable, without sacrificing performance, and using less memory at times.\n",
    "\n",
    "- In Julia, **all arguments to functions are passed by sharing (i.e. by pointers)**. Some technical computing languages pass arrays by value, and while this prevents accidental modification by callees of a value in the caller, it makes avoiding unwanted copying of arrays difficult. **By convention, a function name ending with a !** indicates that it will mutate or destroy the value of one or more of its arguments (compare, **or example, sort and sort!*). Callees must make explicit copies to ensure that they don't modify inputs that they don't intend to change. Many non- mutating functions are implemented by calling a function of the same name with an added ! at the end on an explicit copy of the input, and returning that copy."
   ]
  },
  {
   "cell_type": "code",
   "execution_count": 87,
   "metadata": {},
   "outputs": [
    {
     "data": {
      "text/plain": [
       "3-element Array{Float64,1}:\n",
       " 0.0\n",
       " 0.0\n",
       " 0.0"
      ]
     },
     "execution_count": 87,
     "metadata": {},
     "output_type": "execute_result"
    }
   ],
   "source": [
    "# Construction and Initialization\n",
    "\n",
    "v = zeros(3) # v = zeros(Float64,2)"
   ]
  },
  {
   "cell_type": "code",
   "execution_count": 104,
   "metadata": {},
   "outputs": [
    {
     "data": {
      "text/plain": [
       "3-element Array{Float64,1}:\n",
       " 0.0\n",
       " 0.0\n",
       " 0.0"
      ]
     },
     "execution_count": 104,
     "metadata": {},
     "output_type": "execute_result"
    }
   ],
   "source": [
    "zeros(Float64, (2,2,2)) # Tensor de dimensión 3 (vector dim 1, matrices dim 2, etc)"
   ]
  },
  {
   "cell_type": "code",
   "execution_count": 105,
   "metadata": {},
   "outputs": [
    {
     "name": "stdout",
     "output_type": "stream",
     "text": [
      "Vectores columna!\n",
      "[0.0, 0.0, 0.0]\n",
      "         ^---- la coma denota separación de filas\n"
     ]
    }
   ],
   "source": [
    "println(\"Vectores columna!\")\n",
    "println(v)\n",
    "println(\"         ^---- la coma denota separación de filas\")"
   ]
  },
  {
   "cell_type": "code",
   "execution_count": 108,
   "metadata": {},
   "outputs": [
    {
     "name": "stdout",
     "output_type": "stream",
     "text": [
      "v = [9 2 3]\n",
      "        ^---- espacios en blanco denotan separación de columnas\n"
     ]
    }
   ],
   "source": [
    "# Asignación por referencia\n",
    "v = [1 2 3] # vector fila\n",
    "w = v\n",
    "w[1]=9\n",
    "println(\"v = $v\")\n",
    "println(\"        ^---- espacios en blanco denotan separación de columnas\")"
   ]
  },
  {
   "cell_type": "code",
   "execution_count": 114,
   "metadata": {},
   "outputs": [
    {
     "name": "stdout",
     "output_type": "stream",
     "text": [
      "v = [1, 2, 3]\n"
     ]
    },
    {
     "data": {
      "text/plain": [
       "3-element Array{Int64,1}:\n",
       " 1\n",
       " 2\n",
       " 3"
      ]
     },
     "execution_count": 114,
     "metadata": {},
     "output_type": "execute_result"
    }
   ],
   "source": [
    "# Asignación mediante copia\n",
    "v = [1;2;3]\n",
    "w = copy(v)\n",
    "w[1]=22\n",
    "println(\"v = $v\")\n",
    "\n",
    "w = 2v\n",
    "w[1] = 3\n",
    "v\n",
    "\n",
    "for(...)\n",
    "    calcular_en_función_de_u0(u1) # Solución etap m+1\n",
    "    u0 = copy(u1) # Preparar la siguiente iteración"
   ]
  },
  {
   "cell_type": "code",
   "execution_count": 65,
   "metadata": {},
   "outputs": [],
   "source": [
    "# Array literals"
   ]
  },
  {
   "cell_type": "code",
   "execution_count": 64,
   "metadata": {},
   "outputs": [],
   "source": [
    "# Comprehensions"
   ]
  },
  {
   "cell_type": "code",
   "execution_count": 66,
   "metadata": {},
   "outputs": [],
   "source": [
    "# (...)"
   ]
  },
  {
   "cell_type": "code",
   "execution_count": null,
   "metadata": {},
   "outputs": [],
   "source": []
  }
 ],
 "metadata": {
  "@webio": {
   "lastCommId": null,
   "lastKernelId": null
  },
  "kernelspec": {
   "display_name": "Julia 1.4.0",
   "language": "julia",
   "name": "julia-1.4"
  },
  "language_info": {
   "file_extension": ".jl",
   "mimetype": "application/julia",
   "name": "julia",
   "version": "1.4.0"
  }
 },
 "nbformat": 4,
 "nbformat_minor": 4
}
